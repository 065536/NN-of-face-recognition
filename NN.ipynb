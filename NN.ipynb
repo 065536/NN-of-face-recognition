{
 "cells": [
  {
   "attachments": {},
   "cell_type": "markdown",
   "metadata": {},
   "source": [
    "**P2 Fashion-MNIST Recognition using sk-learn**\n",
    "\n",
    "Since the training data set has 60,000 items, memory is full when doing the MLP. Thus, randomly take 10,000 data as the training set."
   ]
  },
  {
   "cell_type": "code",
   "execution_count": null,
   "metadata": {
    "vscode": {
     "languageId": "plaintext"
    }
   },
   "outputs": [],
   "source": [
    "from sklearn.neural_network import MLPClassifier\n",
    "from sklearn.preprocessing import MinMaxScaler\n",
    "\n",
    "def MLP(turple, m, n):\n",
    "       train = pd.read_csv(\"train.csv\")\n",
    "       train = train.sample(n = 10000,random_state=1)\n",
    "       y_train = train.iloc[:,1]\n",
    "       x_train = train.iloc[:,1:].values\n",
    "       scales = MinMaxScaler(feature_range=(0,1))\n",
    "       x_train_s = scales.fit_transform(x_train)\n",
    "\n",
    "       test = pd.read_csv(\"test.csv\")\n",
    "       x_test = test.iloc[:,0:].values\n",
    "       x_test_s = scales.fit_transform(x_test)\n",
    "       y_test = test.iloc[:,0]\n",
    "\n",
    "       mlp = MLPClassifier(activation='relu', alpha=1e-05, batch_size='auto', beta_1=0.9,\n",
    "              beta_2=0.999, early_stopping=False, epsilon=1e-08,\n",
    "              hidden_layer_sizes= turple, learning_rate='constant',\n",
    "              learning_rate_init=0.001, max_iter=n, momentum=0.9,\n",
    "              nesterovs_momentum=True, power_t=0.5, random_state=1, shuffle=True,\n",
    "              solver=m, tol=0.0001, validation_fraction=0.1, verbose=False,\n",
    "              warm_start=False)\n",
    "       mlp.fit(x_train_s, y_train)\n",
    "       score_test = mlp.score(x_test_s,y_test)\n",
    "       print(\"The accuracy is %f.\"%score_test)"
   ]
  },
  {
   "cell_type": "code",
   "execution_count": null,
   "metadata": {
    "vscode": {
     "languageId": "plaintext"
    }
   },
   "outputs": [],
   "source": [
    "MLP((50,50),'adam',300)"
   ]
  },
  {
   "cell_type": "code",
   "execution_count": null,
   "metadata": {
    "vscode": {
     "languageId": "plaintext"
    }
   },
   "outputs": [],
   "source": [
    "MLP((50,50),'sgd',1000)"
   ]
  },
  {
   "cell_type": "code",
   "execution_count": null,
   "metadata": {
    "vscode": {
     "languageId": "plaintext"
    }
   },
   "outputs": [],
   "source": [
    "MLP((50,50,50),'adam',300)"
   ]
  },
  {
   "cell_type": "code",
   "execution_count": null,
   "metadata": {
    "vscode": {
     "languageId": "plaintext"
    }
   },
   "outputs": [],
   "source": [
    "MLP((50,50,50),'sgd',1000)"
   ]
  },
  {
   "attachments": {},
   "cell_type": "markdown",
   "metadata": {},
   "source": [
    "We can see that within the same input, the performance of SGD is better than that of Adam, while it takes more time and iterations to train the model."
   ]
  }
 ],
 "metadata": {
  "language_info": {
   "name": "python"
  },
  "orig_nbformat": 4
 },
 "nbformat": 4,
 "nbformat_minor": 2
}
